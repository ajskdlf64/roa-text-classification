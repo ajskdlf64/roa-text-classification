{
 "cells": [
  {
   "cell_type": "code",
   "execution_count": 22,
   "metadata": {},
   "outputs": [],
   "source": [
    "from transformers import pipeline\n",
    "\n",
    "BACKBONE = \"distilbert-base-multilingual-cased\"\n",
    "TASK = \"investment\"\n",
    "\n",
    "classifier = pipeline(\n",
    "    task=\"text-classification\", \n",
    "    model=f\"models/{BACKBONE}-finetuned-{TASK}\",\n",
    "    tokenizer=f\"models/{BACKBONE}-finetuned-{TASK}\", \n",
    "    device=0,\n",
    ")\n",
    "\n",
    "def inferencer(text:str=\"\", TASK:str = \"\") : \n",
    "    return TASK if classifier(text, truncation=\"only_first\")[0][\"label\"] == \"LABEL_1\" else \"not \" + TASK"
   ]
  },
  {
   "cell_type": "code",
   "execution_count": 23,
   "metadata": {},
   "outputs": [
    {
     "name": "stderr",
     "output_type": "stream",
     "text": [
      "100%|██████████| 1000/1000 [00:06<00:00, 147.90it/s]\n"
     ]
    }
   ],
   "source": [
    "from tqdm import tqdm\n",
    "\n",
    "for _ in tqdm(range(1000)) : \n",
    "    text = \"발란, 250억 규모 시리즈C 투자 유치 성사\"\n",
    "    inferencer(text=text, TASK=TASK)"
   ]
  },
  {
   "cell_type": "code",
   "execution_count": 24,
   "metadata": {},
   "outputs": [
    {
     "data": {
      "text/plain": [
       "'investment'"
      ]
     },
     "execution_count": 24,
     "metadata": {},
     "output_type": "execute_result"
    }
   ],
   "source": [
    "text = \"발란, 250억 규모 시리즈C 투자 유치 성사\"\n",
    "inferencer(text=text, TASK=TASK)"
   ]
  },
  {
   "cell_type": "code",
   "execution_count": 25,
   "metadata": {},
   "outputs": [
    {
     "data": {
      "text/plain": [
       "'investment'"
      ]
     },
     "execution_count": 25,
     "metadata": {},
     "output_type": "execute_result"
    }
   ],
   "source": [
    "text = \"네이버가 반한 NFT 자산관리 플랫폼…'NFT뱅크' 투자유치\"\n",
    "inferencer(text=text, TASK=TASK)"
   ]
  },
  {
   "cell_type": "code",
   "execution_count": 26,
   "metadata": {},
   "outputs": [
    {
     "data": {
      "text/plain": [
       "'not investment'"
      ]
     },
     "execution_count": 26,
     "metadata": {},
     "output_type": "execute_result"
    }
   ],
   "source": [
    "text = \"일진머티리얼즈, 주가 상승세 전환…롯데케미칼과 인수합병 마무리\"\n",
    "inferencer(text=text, TASK=TASK)"
   ]
  },
  {
   "cell_type": "code",
   "execution_count": 27,
   "metadata": {},
   "outputs": [
    {
     "data": {
      "text/plain": [
       "'not investment'"
      ]
     },
     "execution_count": 27,
     "metadata": {},
     "output_type": "execute_result"
    }
   ],
   "source": [
    "text = \"흥국증권 “SK바이오사이언스, 3분기 실적 부진… 목표가 49%↓”\"\n",
    "inferencer(text=text, TASK=TASK)"
   ]
  },
  {
   "cell_type": "code",
   "execution_count": 28,
   "metadata": {},
   "outputs": [
    {
     "data": {
      "text/plain": [
       "'not investment'"
      ]
     },
     "execution_count": 28,
     "metadata": {},
     "output_type": "execute_result"
    }
   ],
   "source": [
    "text = \"유통가 정기인사, 신세계 늦어지고 롯데 빨라진다\"\n",
    "inferencer(text=text, TASK=TASK)"
   ]
  }
 ],
 "metadata": {
  "kernelspec": {
   "display_name": "sanghee",
   "language": "python",
   "name": "sanghee"
  },
  "language_info": {
   "codemirror_mode": {
    "name": "ipython",
    "version": 3
   },
   "file_extension": ".py",
   "mimetype": "text/x-python",
   "name": "python",
   "nbconvert_exporter": "python",
   "pygments_lexer": "ipython3",
   "version": "3.8.5"
  },
  "orig_nbformat": 4
 },
 "nbformat": 4,
 "nbformat_minor": 2
}
