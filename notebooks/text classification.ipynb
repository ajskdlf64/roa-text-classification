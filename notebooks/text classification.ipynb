{
 "cells": [
  {
   "cell_type": "markdown",
   "id": "5ddf304d",
   "metadata": {},
   "source": [
    "# Text Classification"
   ]
  },
  {
   "cell_type": "markdown",
   "id": "9f23b0fe",
   "metadata": {},
   "source": [
    "- Ensemble 10 mini-model -> voting"
   ]
  },
  {
   "cell_type": "markdown",
   "id": "1987da49",
   "metadata": {},
   "source": [
    "### Library"
   ]
  },
  {
   "cell_type": "code",
   "execution_count": null,
   "id": "cf2ce662",
   "metadata": {},
   "outputs": [],
   "source": [
    "import torch"
   ]
  },
  {
   "cell_type": "code",
   "execution_count": null,
   "id": "161c4800",
   "metadata": {},
   "outputs": [],
   "source": [
    "import transformers\n",
    "transformers.__version__"
   ]
  },
  {
   "cell_type": "code",
   "execution_count": null,
   "id": "804fa889",
   "metadata": {},
   "outputs": [],
   "source": [
    "import tokenizers\n",
    "tokenizers.__version__"
   ]
  },
  {
   "cell_type": "code",
   "execution_count": null,
   "id": "96311e10",
   "metadata": {},
   "outputs": [],
   "source": [
    "from tqdm import tqdm\n",
    "import transformers\n",
    "import pandas as pd\n",
    "import numpy as np\n",
    "import os\n",
    "\n",
    "from transformers import AutoTokenizer\n",
    "from datasets import load_dataset, load_metric\n",
    "from transformers import AutoModelForSequenceClassification, TrainingArguments, Trainer\n",
    "from transformers import pipeline"
   ]
  },
  {
   "cell_type": "markdown",
   "id": "1cd989cc",
   "metadata": {},
   "source": [
    "### GPU settings"
   ]
  },
  {
   "cell_type": "code",
   "execution_count": null,
   "id": "540b8789",
   "metadata": {},
   "outputs": [],
   "source": [
    "os.environ[\"CUDA_DEVICE_ORDER\"]=\"PCI_BUS_ID\"\n",
    "os.environ[\"CUDA_VISIBLE_DEVICES\"]= \"2\""
   ]
  },
  {
   "cell_type": "markdown",
   "id": "ee3c5b72",
   "metadata": {},
   "source": [
    "### Hyperparameters"
   ]
  },
  {
   "cell_type": "code",
   "execution_count": null,
   "id": "12760ff5",
   "metadata": {},
   "outputs": [],
   "source": [
    "SAMPLE_RATIO = 0.1\n",
    "TEST_RATIO = 0.1\n",
    "BACKBONE_MODEL = \"distilbert-base-multilingual-cased\"\n",
    "BATCH_SIZE = 4\n",
    "LEARNING_RATE = 3e-5\n",
    "MAX_EPOCHS = 1\n",
    "WEIGHT_DECAY = 0.01"
   ]
  },
  {
   "cell_type": "markdown",
   "id": "38f77757",
   "metadata": {},
   "source": [
    "### Dataset"
   ]
  },
  {
   "cell_type": "code",
   "execution_count": null,
   "id": "b2636f25",
   "metadata": {},
   "outputs": [],
   "source": [
    "dataset = load_dataset('csv', data_files={'train': '../datasets/train/invest.csv','test': '../datasets/val/invest.csv'})"
   ]
  },
  {
   "cell_type": "code",
   "execution_count": null,
   "id": "7586c3c7",
   "metadata": {},
   "outputs": [],
   "source": [
    "dataset"
   ]
  },
  {
   "cell_type": "code",
   "execution_count": null,
   "id": "76ca3b69",
   "metadata": {},
   "outputs": [],
   "source": [
    "dataset[\"train\"][0]"
   ]
  },
  {
   "cell_type": "code",
   "execution_count": null,
   "id": "17fb13a0",
   "metadata": {},
   "outputs": [],
   "source": [
    "dataset[\"test\"][0]"
   ]
  },
  {
   "cell_type": "markdown",
   "id": "eafa2448",
   "metadata": {},
   "source": [
    "### Metrics"
   ]
  },
  {
   "cell_type": "code",
   "execution_count": null,
   "id": "9a935398",
   "metadata": {},
   "outputs": [],
   "source": [
    "metric = load_metric(\"f1\")"
   ]
  },
  {
   "cell_type": "code",
   "execution_count": null,
   "id": "975a7986",
   "metadata": {},
   "outputs": [],
   "source": [
    "metric"
   ]
  },
  {
   "cell_type": "code",
   "execution_count": null,
   "id": "c42cd207",
   "metadata": {},
   "outputs": [],
   "source": [
    "import numpy as np\n",
    "fake_preds = np.random.randint(0, 3, size=(64,))\n",
    "fake_labels = np.random.randint(0, 3, size=(64,))\n",
    "metric.compute(predictions=fake_preds, references=fake_labels, average=\"macro\")"
   ]
  },
  {
   "cell_type": "markdown",
   "id": "70f912b5",
   "metadata": {},
   "source": [
    "### Preprocess"
   ]
  },
  {
   "cell_type": "code",
   "execution_count": null,
   "id": "a7b8c9e9",
   "metadata": {},
   "outputs": [],
   "source": [
    "tokenizer = AutoTokenizer.from_pretrained(BACKBONE_MODEL, use_fast=True)"
   ]
  },
  {
   "cell_type": "code",
   "execution_count": null,
   "id": "87e76cf5",
   "metadata": {},
   "outputs": [],
   "source": [
    "tokenizer(\"이순신은 조선 중기의 무신이다.\", \"대한민국은 자유민주주의 국가이다.\")"
   ]
  },
  {
   "cell_type": "code",
   "execution_count": null,
   "id": "360f7369",
   "metadata": {},
   "outputs": [],
   "source": [
    "def preprocess_function(examples):\n",
    "    return tokenizer(examples[\"sentence\"], truncation=True)"
   ]
  },
  {
   "cell_type": "code",
   "execution_count": null,
   "id": "996bffaf",
   "metadata": {
    "scrolled": false
   },
   "outputs": [],
   "source": [
    "preprocess_function(dataset['train'][:5])"
   ]
  },
  {
   "cell_type": "code",
   "execution_count": null,
   "id": "42bc0e74",
   "metadata": {},
   "outputs": [],
   "source": [
    "encoded_dataset = dataset.map(preprocess_function, batched=True)"
   ]
  },
  {
   "cell_type": "markdown",
   "id": "8e830099",
   "metadata": {},
   "source": [
    "### Training"
   ]
  },
  {
   "cell_type": "code",
   "execution_count": null,
   "id": "6644a8c9",
   "metadata": {},
   "outputs": [],
   "source": [
    "label_list = [\"True\", \"False\"]\n",
    "num_labels = 2"
   ]
  },
  {
   "cell_type": "code",
   "execution_count": null,
   "id": "fd27f530",
   "metadata": {},
   "outputs": [],
   "source": [
    "num_labels = len(label_list)"
   ]
  },
  {
   "cell_type": "code",
   "execution_count": null,
   "id": "1765bc3f",
   "metadata": {
    "scrolled": true
   },
   "outputs": [],
   "source": [
    "model = AutoModelForSequenceClassification.from_pretrained(BACKBONE_MODEL, num_labels=num_labels)"
   ]
  },
  {
   "cell_type": "code",
   "execution_count": null,
   "id": "6ee4d9f4",
   "metadata": {},
   "outputs": [],
   "source": [
    "metric_name = \"f1\""
   ]
  },
  {
   "cell_type": "code",
   "execution_count": null,
   "id": "4090e8ef",
   "metadata": {},
   "outputs": [],
   "source": [
    "model_name = BACKBONE_MODEL.split(\"/\")[-1]"
   ]
  },
  {
   "cell_type": "code",
   "execution_count": null,
   "id": "35a27ea7",
   "metadata": {},
   "outputs": [],
   "source": [
    "args = TrainingArguments(\n",
    "    f\"{model_name}-finetuned\",\n",
    "    evaluation_strategy = \"epoch\",\n",
    "    save_strategy = \"epoch\",\n",
    "    learning_rate = LEARNING_RATE,\n",
    "    per_device_train_batch_size=BATCH_SIZE,\n",
    "    per_device_eval_batch_size=BATCH_SIZE,\n",
    "    num_train_epochs=MAX_EPOCHS,\n",
    "    weight_decay=WEIGHT_DECAY,\n",
    "    load_best_model_at_end=True,\n",
    "    metric_for_best_model=metric_name,\n",
    "    push_to_hub=False,\n",
    ")"
   ]
  },
  {
   "cell_type": "code",
   "execution_count": null,
   "id": "d1a15e3f",
   "metadata": {},
   "outputs": [],
   "source": [
    "def compute_metrics(eval_pred):\n",
    "    predictions, labels = eval_pred\n",
    "    predictions = np.argmax(predictions, axis=1)\n",
    "    return metric.compute(predictions=predictions, references=labels, average=\"micro\")"
   ]
  },
  {
   "cell_type": "code",
   "execution_count": null,
   "id": "4a5cc04b",
   "metadata": {},
   "outputs": [],
   "source": [
    "trainer = Trainer(\n",
    "    model,\n",
    "    args,\n",
    "    train_dataset=encoded_dataset[\"train\"],\n",
    "    eval_dataset=encoded_dataset[\"test\"],\n",
    "    tokenizer=tokenizer,\n",
    "    compute_metrics=compute_metrics\n",
    ")"
   ]
  },
  {
   "cell_type": "code",
   "execution_count": null,
   "id": "1ce0225f",
   "metadata": {
    "scrolled": false
   },
   "outputs": [],
   "source": [
    "trainer.train()"
   ]
  },
  {
   "cell_type": "code",
   "execution_count": null,
   "id": "beac0731",
   "metadata": {},
   "outputs": [],
   "source": [
    "trainer.evaluate()"
   ]
  },
  {
   "cell_type": "markdown",
   "id": "02f37a4c",
   "metadata": {},
   "source": [
    "### Inference"
   ]
  },
  {
   "cell_type": "code",
   "execution_count": null,
   "id": "a1c10cab",
   "metadata": {},
   "outputs": [],
   "source": [
    "submission_df = pd.read_csv(\"./test.csv\")[:100]"
   ]
  },
  {
   "cell_type": "code",
   "execution_count": null,
   "id": "9cba82d7",
   "metadata": {},
   "outputs": [],
   "source": [
    "sentences = list(submission_df[\"data\"])"
   ]
  },
  {
   "cell_type": "code",
   "execution_count": null,
   "id": "0934c5f2",
   "metadata": {},
   "outputs": [],
   "source": [
    "preds = list()"
   ]
  },
  {
   "cell_type": "code",
   "execution_count": null,
   "id": "fa26fc3e",
   "metadata": {},
   "outputs": [],
   "source": [
    "inferencer = pipeline(task=\"text-classification\", model=model, tokenizer=tokenizer, device=0)\n",
    "for sentence in tqdm(sentences) : \n",
    "    out = inferencer(sentence, batch_size=64, truncation=\"only_first\")\n",
    "    preds.append(out[0][\"label\"].split(\"_\")[1])"
   ]
  },
  {
   "cell_type": "code",
   "execution_count": null,
   "id": "3e2a9559",
   "metadata": {},
   "outputs": [],
   "source": [
    "submission_df[\"category\"] = preds"
   ]
  },
  {
   "cell_type": "code",
   "execution_count": null,
   "id": "ff8e22cf",
   "metadata": {},
   "outputs": [],
   "source": [
    "submission_df = submission_df[[\"index\", \"category\"]]"
   ]
  },
  {
   "cell_type": "code",
   "execution_count": null,
   "id": "de196789",
   "metadata": {},
   "outputs": [],
   "source": [
    "submission_df.to_csv(\"./submission.csv\", index=False)"
   ]
  }
 ],
 "metadata": {
  "kernelspec": {
   "display_name": "sanghee",
   "language": "python",
   "name": "sanghee"
  },
  "language_info": {
   "codemirror_mode": {
    "name": "ipython",
    "version": 3
   },
   "file_extension": ".py",
   "mimetype": "text/x-python",
   "name": "python",
   "nbconvert_exporter": "python",
   "pygments_lexer": "ipython3",
   "version": "3.8.5"
  }
 },
 "nbformat": 4,
 "nbformat_minor": 5
}
